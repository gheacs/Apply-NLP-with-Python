{
 "cells": [
  {
   "cell_type": "markdown",
   "metadata": {},
   "source": [
    "# Analyze Taylor Swift Lyrics with Python\n",
    "\n",
    "[The original dataset was curated by Jan Llenzl Dagohoy and published on Kaggle](https://www.kaggle.com/datasets/thespacefreak/taylor-swift-song-lyrics-all-albums)"
   ]
  },
  {
   "cell_type": "code",
   "execution_count": 3,
   "metadata": {},
   "outputs": [],
   "source": [
    "# Import relevant libraries\n",
    "\n",
    "import pandas as pd"
   ]
  },
  {
   "cell_type": "markdown",
   "metadata": {},
   "source": [
    "#### 1. Combine CSV files"
   ]
  },
  {
   "cell_type": "code",
   "execution_count": 14,
   "metadata": {},
   "outputs": [
    {
     "name": "stdout",
     "output_type": "stream",
     "text": [
      "     album_name track_title  track_n  \\\n",
      "0  Taylor Swift  Tim McGraw        1   \n",
      "1  Taylor Swift  Tim McGraw        1   \n",
      "2  Taylor Swift  Tim McGraw        1   \n",
      "3  Taylor Swift  Tim McGraw        1   \n",
      "4  Taylor Swift  Tim McGraw        1   \n",
      "\n",
      "                                         lyric  line  \n",
      "0          He said the way my blue eyes shined     1  \n",
      "1  Put those Georgia stars to shame that night     2  \n",
      "2                       I said, \"That's a lie\"     3  \n",
      "3                  Just a boy in a Chevy truck     4  \n",
      "4         That had a tendency of gettin' stuck     5  \n"
     ]
    }
   ],
   "source": [
    "files = ['taylor_swift_song_lyrics\\\\01-taylor_swift.csv', 'taylor_swift_song_lyrics\\\\02-fearless_taylors_version.csv', 'taylor_swift_song_lyrics\\\\03-speak_now_deluxe_package.csv', 'taylor_swift_song_lyrics\\\\04-red_deluxe_edition.csv', 'taylor_swift_song_lyrics\\\\05-1989_deluxe.csv', 'taylor_swift_song_lyrics\\\\06-reputation.csv', 'taylor_swift_song_lyrics\\\\07-lover.csv', 'taylor_swift_song_lyrics\\\\08-folklore_deluxe_version.csv', 'taylor_swift_song_lyrics\\\\09-evermore_deluxe_version.csv'] \n",
    " \n",
    "# Read each csv file and store them in a list\n",
    "dataframe = [pd.read_csv(file) for file in files]   \n",
    "\n",
    "# Concatenante the data\n",
    "combined_data = pd.concat(dataframe, ignore_index=True)\n",
    "\n",
    "# Saved the combined data to a csv file\n",
    "combined_data.to_csv('taylor_swift_song_lyrics\\\\taylor_swift_lyrics.csv', index=False)\n",
    "\n",
    "# Check the first 5 rows\n",
    "print(combined_data.head())"
   ]
  },
  {
   "cell_type": "code",
   "execution_count": 15,
   "metadata": {},
   "outputs": [
    {
     "name": "stdout",
     "output_type": "stream",
     "text": [
      "<class 'pandas.core.frame.DataFrame'>\n",
      "RangeIndex: 8358 entries, 0 to 8357\n",
      "Data columns (total 5 columns):\n",
      " #   Column       Non-Null Count  Dtype \n",
      "---  ------       --------------  ----- \n",
      " 0   album_name   8358 non-null   object\n",
      " 1   track_title  8358 non-null   object\n",
      " 2   track_n      8358 non-null   int64 \n",
      " 3   lyric        8358 non-null   object\n",
      " 4   line         8358 non-null   int64 \n",
      "dtypes: int64(2), object(3)\n",
      "memory usage: 326.6+ KB\n",
      "None\n"
     ]
    }
   ],
   "source": [
    "# Check the info of the combined data\n",
    "print(combined_data.info())"
   ]
  },
  {
   "cell_type": "markdown",
   "metadata": {},
   "source": [
    "#### 2. Add album year"
   ]
  },
  {
   "cell_type": "code",
   "execution_count": 18,
   "metadata": {},
   "outputs": [
    {
     "name": "stdout",
     "output_type": "stream",
     "text": [
      "['Taylor Swift' 'Fearless (Taylor’s Version)' 'Speak Now (Deluxe)'\n",
      " 'Red (Deluxe Edition)' '1989 (Deluxe)' 'reputation' 'Lover'\n",
      " 'folklore (deluxe version)' 'evermore (deluxe version)']\n"
     ]
    }
   ],
   "source": [
    "# Check existing album\n",
    "print(combined_data['album_name'].unique())"
   ]
  },
  {
   "cell_type": "code",
   "execution_count": 23,
   "metadata": {},
   "outputs": [
    {
     "name": "stdout",
     "output_type": "stream",
     "text": [
      "     album_name track_title  track_n  \\\n",
      "0  Taylor Swift  Tim McGraw        1   \n",
      "1  Taylor Swift  Tim McGraw        1   \n",
      "2  Taylor Swift  Tim McGraw        1   \n",
      "3  Taylor Swift  Tim McGraw        1   \n",
      "4  Taylor Swift  Tim McGraw        1   \n",
      "\n",
      "                                         lyric  line release_year  \n",
      "0          He said the way my blue eyes shined     1         2006  \n",
      "1  Put those Georgia stars to shame that night     2         2006  \n",
      "2                       I said, \"That's a lie\"     3         2006  \n",
      "3                  Just a boy in a Chevy truck     4         2006  \n",
      "4         That had a tendency of gettin' stuck     5         2006  \n"
     ]
    }
   ],
   "source": [
    "def release_year(album_name):\n",
    "    if 'Taylor Swift' in album_name:\n",
    "        return 2006\n",
    "    elif 'fearless' in album_name:\n",
    "        return 2008\n",
    "    elif 'speak_now' in album_name:\n",
    "        return 2010\n",
    "    elif 'red' in album_name:\n",
    "        return 2012\n",
    "    elif '1989' in album_name:\n",
    "        return 2014\n",
    "    elif 'reputation' in album_name:\n",
    "        return 2017\n",
    "    elif 'lover' in album_name:\n",
    "        return 2019\n",
    "    elif 'folklore' in album_name:\n",
    "        return 2020\n",
    "    elif 'evermore' in album_name:\n",
    "        return 2020\n",
    "    else:\n",
    "        return 'No Year'\n",
    "    \n",
    "# Apply the function to the album_name column\n",
    "combined_data['release_year'] = combined_data['album_name'].apply(release_year)\n",
    "\n",
    "print(combined_data.head())"
   ]
  },
  {
   "cell_type": "markdown",
   "metadata": {},
   "source": [
    "#### 3. Clean the lyrics text\n",
    "To accurately count keyword mentions, we need to make everything lowercase everything, remove punctuation, and exclude stop words.\n",
    "\n",
    "- Change everything to lower case and save the result in a new column called clean_lyric.\n",
    "- Remove punctuation and save the result to the existing clean_lyric column.\n",
    "- Remove stopwords.\n"
   ]
  },
  {
   "cell_type": "code",
   "execution_count": 25,
   "metadata": {},
   "outputs": [],
   "source": [
    "# Change lyrics to lowercase\n",
    "combined_data['clean_lyric'] = combined_data['lyric'].str.lower()\n"
   ]
  },
  {
   "cell_type": "code",
   "execution_count": 31,
   "metadata": {},
   "outputs": [
    {
     "name": "stdout",
     "output_type": "stream",
     "text": [
      "0               he said the way my blue eyes shined\n",
      "1       put those georgia stars to shame that night\n",
      "2                            i said, \"that's a lie\"\n",
      "3                       just a boy in a chevy truck\n",
      "4              that had a tendency of gettin' stuck\n",
      "                           ...                     \n",
      "8353         you know, you know, you know, you know\n",
      "8354                           when it's time to go\n",
      "8355                                 so then you go\n",
      "8356                                    then you go\n",
      "8357                                    you just go\n",
      "Name: clean_lyric, Length: 8358, dtype: object\n"
     ]
    }
   ],
   "source": [
    "# Remove punctuation\n",
    "combined_data['clean_lyric'] = combined_data['clean_lyric'].str.replace(r'[^\\w\\s\\\" \"\\ ,\\.\\']', '')\n",
    "print(combined_data['clean_lyric'])"
   ]
  },
  {
   "cell_type": "code",
   "execution_count": null,
   "metadata": {},
   "outputs": [],
   "source": [
    "#create a small list of English stop words, feel free to edit this list\n",
    "stop = ['the', 'a', 'this', 'that', 'to', 'is', 'am', 'was', 'were', 'be', 'being', 'been']\n"
   ]
  }
 ],
 "metadata": {
  "kernelspec": {
   "display_name": "myenv",
   "language": "python",
   "name": "python3"
  },
  "language_info": {
   "codemirror_mode": {
    "name": "ipython",
    "version": 3
   },
   "file_extension": ".py",
   "mimetype": "text/x-python",
   "name": "python",
   "nbconvert_exporter": "python",
   "pygments_lexer": "ipython3",
   "version": "3.10.13"
  }
 },
 "nbformat": 4,
 "nbformat_minor": 2
}
