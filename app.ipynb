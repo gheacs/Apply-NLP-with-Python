{
 "cells": [
  {
   "cell_type": "markdown",
   "metadata": {},
   "source": [
    "# Analyze Taylor Swift Lyrics with Python\n",
    "\n",
    "[The original dataset was curated by Jan Llenzl Dagohoy and published on Kaggle](https://www.kaggle.com/datasets/thespacefreak/taylor-swift-song-lyrics-all-albums)"
   ]
  },
  {
   "cell_type": "code",
   "execution_count": 22,
   "metadata": {},
   "outputs": [],
   "source": [
    "# Import relevant libraries\n",
    "\n",
    "import pandas as pd\n",
    "from sklearn.feature_extraction import text # importing stop words"
   ]
  },
  {
   "cell_type": "markdown",
   "metadata": {},
   "source": [
    "#### 1. Combine CSV files"
   ]
  },
  {
   "cell_type": "code",
   "execution_count": 3,
   "metadata": {},
   "outputs": [
    {
     "name": "stdout",
     "output_type": "stream",
     "text": [
      "     album_name track_title  track_n  \\\n",
      "0  Taylor Swift  Tim McGraw        1   \n",
      "1  Taylor Swift  Tim McGraw        1   \n",
      "2  Taylor Swift  Tim McGraw        1   \n",
      "3  Taylor Swift  Tim McGraw        1   \n",
      "4  Taylor Swift  Tim McGraw        1   \n",
      "\n",
      "                                         lyric  line  \n",
      "0          He said the way my blue eyes shined     1  \n",
      "1  Put those Georgia stars to shame that night     2  \n",
      "2                       I said, \"That's a lie\"     3  \n",
      "3                  Just a boy in a Chevy truck     4  \n",
      "4         That had a tendency of gettin' stuck     5  \n"
     ]
    }
   ],
   "source": [
    "files = ['taylor_swift_song_lyrics\\\\01-taylor_swift.csv', 'taylor_swift_song_lyrics\\\\02-fearless_taylors_version.csv', 'taylor_swift_song_lyrics\\\\03-speak_now_deluxe_package.csv', 'taylor_swift_song_lyrics\\\\04-red_deluxe_edition.csv', 'taylor_swift_song_lyrics\\\\05-1989_deluxe.csv', 'taylor_swift_song_lyrics\\\\06-reputation.csv', 'taylor_swift_song_lyrics\\\\07-lover.csv', 'taylor_swift_song_lyrics\\\\08-folklore_deluxe_version.csv', 'taylor_swift_song_lyrics\\\\09-evermore_deluxe_version.csv'] \n",
    " \n",
    "# Read each csv file and store them in a list\n",
    "dataframe = [pd.read_csv(file) for file in files]   \n",
    "\n",
    "# Concatenante the data\n",
    "combined_data = pd.concat(dataframe, ignore_index=True)\n",
    "\n",
    "# Saved the combined data to a csv file\n",
    "combined_data.to_csv('taylor_swift_song_lyrics\\\\taylor_swift_lyrics.csv', index=False)\n",
    "\n",
    "# Check the first 5 rows\n",
    "print(combined_data.head())"
   ]
  },
  {
   "cell_type": "code",
   "execution_count": 4,
   "metadata": {},
   "outputs": [
    {
     "name": "stdout",
     "output_type": "stream",
     "text": [
      "<class 'pandas.core.frame.DataFrame'>\n",
      "RangeIndex: 8358 entries, 0 to 8357\n",
      "Data columns (total 5 columns):\n",
      " #   Column       Non-Null Count  Dtype \n",
      "---  ------       --------------  ----- \n",
      " 0   album_name   8358 non-null   object\n",
      " 1   track_title  8358 non-null   object\n",
      " 2   track_n      8358 non-null   int64 \n",
      " 3   lyric        8358 non-null   object\n",
      " 4   line         8358 non-null   int64 \n",
      "dtypes: int64(2), object(3)\n",
      "memory usage: 326.6+ KB\n",
      "None\n"
     ]
    }
   ],
   "source": [
    "# Check the info of the combined data\n",
    "print(combined_data.info())"
   ]
  },
  {
   "cell_type": "markdown",
   "metadata": {},
   "source": [
    "#### 2. Add album year"
   ]
  },
  {
   "cell_type": "code",
   "execution_count": 5,
   "metadata": {},
   "outputs": [
    {
     "name": "stdout",
     "output_type": "stream",
     "text": [
      "['Taylor Swift' 'Fearless (Taylor’s Version)' 'Speak Now (Deluxe)'\n",
      " 'Red (Deluxe Edition)' '1989 (Deluxe)' 'reputation' 'Lover'\n",
      " 'folklore (deluxe version)' 'evermore (deluxe version)']\n"
     ]
    }
   ],
   "source": [
    "# Check existing album\n",
    "print(combined_data['album_name'].unique())"
   ]
  },
  {
   "cell_type": "code",
   "execution_count": 6,
   "metadata": {},
   "outputs": [
    {
     "name": "stdout",
     "output_type": "stream",
     "text": [
      "     album_name track_title  track_n  \\\n",
      "0  Taylor Swift  Tim McGraw        1   \n",
      "1  Taylor Swift  Tim McGraw        1   \n",
      "2  Taylor Swift  Tim McGraw        1   \n",
      "3  Taylor Swift  Tim McGraw        1   \n",
      "4  Taylor Swift  Tim McGraw        1   \n",
      "\n",
      "                                         lyric  line release_year  \n",
      "0          He said the way my blue eyes shined     1         2006  \n",
      "1  Put those Georgia stars to shame that night     2         2006  \n",
      "2                       I said, \"That's a lie\"     3         2006  \n",
      "3                  Just a boy in a Chevy truck     4         2006  \n",
      "4         That had a tendency of gettin' stuck     5         2006  \n"
     ]
    }
   ],
   "source": [
    "def release_year(album_name):\n",
    "    if 'Taylor Swift' in album_name:\n",
    "        return 2006\n",
    "    elif 'fearless' in album_name:\n",
    "        return 2008\n",
    "    elif 'speak_now' in album_name:\n",
    "        return 2010\n",
    "    elif 'red' in album_name:\n",
    "        return 2012\n",
    "    elif '1989' in album_name:\n",
    "        return 2014\n",
    "    elif 'reputation' in album_name:\n",
    "        return 2017\n",
    "    elif 'lover' in album_name:\n",
    "        return 2019\n",
    "    elif 'folklore' in album_name:\n",
    "        return 2020\n",
    "    elif 'evermore' in album_name:\n",
    "        return 2020\n",
    "    else:\n",
    "        return 'No Year'\n",
    "    \n",
    "# Apply the function to the album_name column\n",
    "combined_data['release_year'] = combined_data['album_name'].apply(release_year)\n",
    "\n",
    "print(combined_data.head())"
   ]
  },
  {
   "cell_type": "markdown",
   "metadata": {},
   "source": [
    "#### 3. Clean the lyrics text\n",
    "To accurately count keyword mentions, we need to make everything lowercase everything, remove punctuation, and exclude stop words.\n",
    "\n",
    "- Change everything to lower case and save the result in a new column called clean_lyric.\n",
    "- Remove punctuation and save the result to the existing clean_lyric column.\n",
    "- Remove stopwords.\n"
   ]
  },
  {
   "cell_type": "code",
   "execution_count": 11,
   "metadata": {},
   "outputs": [],
   "source": [
    "# Change lyrics to lowercase\n",
    "combined_data['clean_lyric'] = combined_data['lyric'].str.lower()\n"
   ]
  },
  {
   "cell_type": "code",
   "execution_count": 12,
   "metadata": {},
   "outputs": [
    {
     "name": "stdout",
     "output_type": "stream",
     "text": [
      "0               he said the way my blue eyes shined\n",
      "1       put those georgia stars to shame that night\n",
      "2                            i said, \"that's a lie\"\n",
      "3                       just a boy in a chevy truck\n",
      "4              that had a tendency of gettin' stuck\n",
      "                           ...                     \n",
      "8353         you know, you know, you know, you know\n",
      "8354                           when it's time to go\n",
      "8355                                 so then you go\n",
      "8356                                    then you go\n",
      "8357                                    you just go\n",
      "Name: clean_lyric, Length: 8358, dtype: object\n"
     ]
    }
   ],
   "source": [
    "# Remove punctuation\n",
    "combined_data['clean_lyric'] = combined_data['clean_lyric'].str.replace(r'[^\\w\\s\\\" \"\\ ,\\.\\']', '')\n",
    "print(combined_data['clean_lyric'])"
   ]
  },
  {
   "cell_type": "code",
   "execution_count": 23,
   "metadata": {},
   "outputs": [
    {
     "name": "stdout",
     "output_type": "stream",
     "text": [
      "frozenset({'six', 'before', 'next', 'onto', 'former', 'us', 'show', 'until', 'himself', 'done', 'i', 'four', 'towards', 'each', 'who', 'part', 'into', 'move', 'nowhere', 'afterwards', 'thus', 'those', 'no', 'though', 'any', 'to', 'never', 'amount', 'thereby', 'off', 'else', 'by', 'up', 'thru', 'five', 'themselves', 'the', 'been', 'was', 'with', 'therein', 'sixty', 'few', 'amongst', 'others', 'toward', 'because', 'do', 'thick', 'becomes', 'enough', 'this', 'whereby', 'something', 'everywhere', 'how', 'there', 'mine', 'yourself', 'noone', 'must', 'see', 'more', 'keep', 'mostly', 'some', 'it', 'made', 'also', 'their', 'anywhere', 'they', 'either', 'empty', 'you', 'seems', 'here', 'our', 'of', 'in', 'within', 'down', 'system', 'give', 'bottom', 'after', 'moreover', 'hers', 'mill', 'anyone', 'eg', 'is', 'most', 'same', 'might', 'except', 'whereupon', 'as', 'per', 'am', 'own', 'around', 'herself', 'side', 'less', 'all', 'hasnt', 'someone', 'full', 'its', 'will', 'twelve', 'therefore', 'cant', 'hundred', 'even', 'sometimes', 'becoming', 'thin', 'a', 'had', 'seeming', 'however', 'he', 'several', 'only', 'at', 'across', 'fire', 'not', 'whenever', 'somehow', 'go', 'without', 'de', 'my', 'three', 'she', 'since', 'once', 'seem', 'upon', 'thereafter', 'but', 'neither', 'an', 'anyway', 'itself', 'nine', 'alone', 'nevertheless', 'for', 'whoever', 'where', 're', 'rather', 'many', 'other', 'take', 'whose', 'very', 'elsewhere', 'everything', 'first', 'eleven', 'along', 'her', 'interest', 'eight', 'him', 'ie', 'serious', 'find', 'your', 'among', 'due', 'can', 'herein', 'twenty', 'bill', 'when', 'somewhere', 'below', 'between', 'already', 'and', 'yet', 'thereupon', 'cannot', 'back', 'formerly', 'amoungst', 'latter', 'wherever', 'always', 'whereafter', 'than', 'out', 'what', 'anything', 'his', 'detail', 'hence', 'behind', 'while', 'un', 'nothing', 'ours', 'myself', 'namely', 'further', 'above', 'be', 'inc', 'could', 'nobody', 'if', 'couldnt', 'such', 'over', 'fifty', 'indeed', 'would', 'too', 'that', 'become', 'found', 'now', 'yours', 'every', 'hereby', 'beforehand', 'besides', 'latterly', 'them', 'sometime', 'often', 'almost', 'fifteen', 'well', 'so', 'beyond', 'against', 'whether', 'perhaps', 'front', 'about', 'everyone', 'during', 'last', 'much', 'whatever', 'ten', 'sincere', 'again', 'why', 'co', 'name', 'anyhow', 'ourselves', 'cry', 'whither', 'get', 'yourselves', 'on', 'please', 'fill', 'although', 'or', 'should', 'being', 'together', 'call', 'beside', 'put', 'con', 'whom', 'describe', 'through', 'via', 'least', 'we', 'from', 'otherwise', 'etc', 'still', 'are', 'hereupon', 'these', 'nor', 'throughout', 'none', 'whereas', 'third', 'forty', 'one', 'thence', 'whole', 'seemed', 'have', 'ltd', 'ever', 'whence', 'were', 'became', 'another', 'hereafter', 'then', 'top', 'meanwhile', 'under', 'me', 'may', 'wherein', 'two', 'which', 'has', 'both'})\n"
     ]
    }
   ],
   "source": [
    "skl_stopwords = text.ENGLISH_STOP_WORDS\n",
    "print(skl_stopwords)\n",
    "#create a small list of English stop words, feel free to edit this list\n",
    "\n"
   ]
  },
  {
   "cell_type": "code",
   "execution_count": 15,
   "metadata": {},
   "outputs": [
    {
     "name": "stdout",
     "output_type": "stream",
     "text": [
      "0         [he, said, the, way, my, blue, eyes, shined]\n",
      "1    [put, those, georgia, stars, to, shame, that, ...\n",
      "2                         [i, said,, \"that's, a, lie\"]\n",
      "3                  [just, a, boy, in, a, chevy, truck]\n",
      "4         [that, had, a, tendency, of, gettin', stuck]\n",
      "Name: clean_lyric_list, dtype: object\n"
     ]
    }
   ],
   "source": [
    "# Split the lyrics into words\n",
    "combined_data['clean_lyric_list'] = combined_data['clean_lyric'].str.split()\n",
    "print(combined_data['clean_lyric_list'].head())"
   ]
  },
  {
   "cell_type": "code",
   "execution_count": 24,
   "metadata": {},
   "outputs": [
    {
     "name": "stdout",
     "output_type": "stream",
     "text": [
      "0    [said, way, blue, eyes, shined]\n",
      "1     [georgia, stars, shame, night]\n",
      "2             [said,, \"that's, lie\"]\n",
      "3          [just, boy, chevy, truck]\n",
      "4         [tendency, gettin', stuck]\n",
      "Name: clean_lyric_list, dtype: object\n"
     ]
    }
   ],
   "source": [
    "# Remove stop words\n",
    "combined_data['clean_lyric_list'] = combined_data['clean_lyric_list'].apply(lambda x: [item for item in x if item not in skl_stopwords])\n",
    "print(combined_data['clean_lyric_list'].head())"
   ]
  },
  {
   "cell_type": "code",
   "execution_count": 25,
   "metadata": {},
   "outputs": [
    {
     "name": "stdout",
     "output_type": "stream",
     "text": [
      "0       said way blue eyes shined\n",
      "1       georgia stars shame night\n",
      "2              said, \"that's lie\"\n",
      "3            just boy chevy truck\n",
      "4          tendency gettin' stuck\n",
      "                  ...            \n",
      "8353       know, know, know, know\n",
      "8354                    it's time\n",
      "8355                             \n",
      "8356                             \n",
      "8357                         just\n",
      "Name: clean_lyric, Length: 8358, dtype: object\n"
     ]
    }
   ],
   "source": [
    "# Re-join the words into a string\n",
    "combined_data['clean_lyric'] = combined_data['clean_lyric_list'].str.join(' ')\n",
    "print(combined_data['clean_lyric'])"
   ]
  },
  {
   "cell_type": "markdown",
   "metadata": {},
   "source": [
    "#### 4. Find keyword mentions\n",
    "\n",
    "- Create a new column to indicate if a lyric has \"midnight\"in it.\n",
    "- Check how may times midnight occurs"
   ]
  },
  {
   "cell_type": "code",
   "execution_count": 29,
   "metadata": {},
   "outputs": [
    {
     "name": "stdout",
     "output_type": "stream",
     "text": [
      "midnight_lyric\n",
      "False    8349\n",
      "True        9\n",
      "Name: count, dtype: int64\n"
     ]
    }
   ],
   "source": [
    "def midnight_lyric(lyric):\n",
    "    if 'midnight' in lyric:\n",
    "        return True\n",
    "    else:\n",
    "        return False\n",
    "\n",
    "combined_data['midnight_lyric'] = combined_data['clean_lyric'].apply(midnight_lyric)\n",
    "print(combined_data['midnight_lyric'].value_counts())"
   ]
  },
  {
   "cell_type": "markdown",
   "metadata": {},
   "source": [
    "#### 5. Expand the keyword list\n",
    "Midnight might not be the only way that Taylor Swift has talked about night. We need to expand our list. We've made a list of night words.\n",
    "- Join the lists into a regular expression string using the .join() function and the | to indicate \"or\"\n",
    "- Create a new column for each word category (day, night, time) that evaluates the clean lyrics for the presence of the words in the regular expression.\n",
    "- Count how many times the words appeared and print the result to the screen\n"
   ]
  }
 ],
 "metadata": {
  "kernelspec": {
   "display_name": "myenv",
   "language": "python",
   "name": "python3"
  },
  "language_info": {
   "codemirror_mode": {
    "name": "ipython",
    "version": 3
   },
   "file_extension": ".py",
   "mimetype": "text/x-python",
   "name": "python",
   "nbconvert_exporter": "python",
   "pygments_lexer": "ipython3",
   "version": "3.10.13"
  }
 },
 "nbformat": 4,
 "nbformat_minor": 2
}
